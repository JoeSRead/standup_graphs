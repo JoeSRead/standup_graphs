{
 "cells": [
  {
   "cell_type": "code",
   "execution_count": null,
   "metadata": {},
   "outputs": [],
   "source": [
    "\n",
    "def grouper(G, lm, assigned_lst=[], num =5):\n",
    "    \"\"\"Given a Graph G, a start node lm (line manager), a list of people already assigned, and the desired number of people per group return a list of the closest num-1 people to lm. Sample is used to prevent stable patterns forming.\"\"\"\n",
    "    \n",
    "    neb_lst = [lm]\n",
    "\n",
    "    neb_weight = []\n",
    "\n",
    "    for i in list(nx.neighbors(G, lm)):\n",
    "        neb_weight.append((i, G[lm][i]['weight']))\n",
    "    \n",
    "    neb_weight = sample(neb_weight, len(neb_weight))\n",
    "    neb_weight.sort(key = lambda x: x[1])\n",
    "\n",
    "    for i in neb_weight:\n",
    "        if(len(neb_lst) < num):\n",
    "            if i[0] not in assigned_lst:\n",
    "                neb_lst.append(i[0])\n",
    "        else:\n",
    "            break\n",
    "    return neb_lst\n"
   ]
  }
 ],
 "metadata": {
  "kernelspec": {
   "display_name": "Python 3",
   "language": "python",
   "name": "python3"
  },
  "language_info": {
   "codemirror_mode": {
    "name": "ipython",
    "version": 3
   },
   "file_extension": ".py",
   "mimetype": "text/x-python",
   "name": "python",
   "nbconvert_exporter": "python",
   "pygments_lexer": "ipython3",
   "version": "3.7.6"
  }
 },
 "nbformat": 4,
 "nbformat_minor": 4
}
