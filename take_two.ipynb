{
 "cells": [
  {
   "cell_type": "code",
   "execution_count": 1,
   "metadata": {},
   "outputs": [],
   "source": [
    "import networkx as nx\n",
    "import pandas as pd\n",
    "import matplotlib.pyplot as plt\n",
    "from standup_graphs import *"
   ]
  },
  {
   "cell_type": "code",
   "execution_count": 2,
   "metadata": {},
   "outputs": [],
   "source": [
    "G = nx.read_gpickle('pickled_graph')"
   ]
  },
  {
   "cell_type": "code",
   "execution_count": 3,
   "metadata": {},
   "outputs": [
    {
     "data": {
      "text/plain": [
       "['Mark Wentink',\n",
       " 'Victor Autonell',\n",
       " 'Alex Dunne',\n",
       " 'Rosie Eccleston',\n",
       " 'Haydn Chapman']"
      ]
     },
     "execution_count": 3,
     "metadata": {},
     "output_type": "execute_result"
    }
   ],
   "source": [
    "line_managers(G)"
   ]
  },
  {
   "cell_type": "code",
   "execution_count": 4,
   "metadata": {},
   "outputs": [
    {
     "data": {
      "text/plain": [
       "25"
      ]
     },
     "execution_count": 4,
     "metadata": {},
     "output_type": "execute_result"
    }
   ],
   "source": [
    "len(G.nodes())"
   ]
  },
  {
   "cell_type": "code",
   "execution_count": 5,
   "metadata": {},
   "outputs": [],
   "source": [
    "def take_two(G, starting_nodes = []):\n",
    "    \n",
    "    if not starting_nodes:\n",
    "        start = line_managers(G)\n",
    "    else:\n",
    "        start = starting_nodes\n",
    "    \n",
    "    assigned = start\n",
    "    \n",
    "    group_lst = [[node] for node in start]\n",
    "    \n",
    "    num_of_mentors = len(G.nodes)\n",
    " \n",
    "    while len(assigned) < num_of_mentors:\n",
    "        \n",
    "        for group in group_lst:\n",
    "\n",
    "            current_size = len(group)\n",
    "            \n",
    "            con_lst = [[mentor, group_connectivity(G, mentor, group)] for mentor in list(set(nx.neighbors(G, group[0])) - set(group))]\n",
    "            con_lst = sample(con_lst, len(con_lst))\n",
    "            con_lst.sort(key = lambda x: x[1])\n",
    "            con_lst = [x[0] for x in con_lst]\n",
    "\n",
    " \n",
    "            for mentor in con_lst:\n",
    "                if mentor not in assigned:\n",
    "                    group.append(mentor)\n",
    "                    assigned.append(mentor)\n",
    "                    break\n",
    "                else:\n",
    "                    pass\n",
    "\n",
    "            \n",
    "    \n",
    "    return group_lst"
   ]
  },
  {
   "cell_type": "code",
   "execution_count": 12,
   "metadata": {},
   "outputs": [
    {
     "data": {
      "text/plain": [
       "[['Mark Wentink',\n",
       "  'Claudio Paladini',\n",
       "  'Jack Poulton',\n",
       "  'Ioana Preoteasa',\n",
       "  'Wojciech Orzechowski'],\n",
       " ['Victor Autonell',\n",
       "  'Ioanna Kotoula',\n",
       "  'Daniel Penchev',\n",
       "  'George Stanley',\n",
       "  'Sean Aller'],\n",
       " ['Alex Dunne',\n",
       "  'Thomas Tsoulias',\n",
       "  'Mayan Patel',\n",
       "  'Ella Franks',\n",
       "  'Rosalind Haskins'],\n",
       " ['Rosie Eccleston',\n",
       "  'Adriano Cosi',\n",
       "  'Anna Peng',\n",
       "  'Tom Smallwood',\n",
       "  'Jake Bailey'],\n",
       " ['Haydn Chapman',\n",
       "  'Dagmar Ellefsen',\n",
       "  'Henry Glynn',\n",
       "  'Titus Bridgwood',\n",
       "  'Joe Read']]"
      ]
     },
     "execution_count": 12,
     "metadata": {},
     "output_type": "execute_result"
    }
   ],
   "source": [
    "stup = take_two(G)\n",
    "stup"
   ]
  },
  {
   "cell_type": "code",
   "execution_count": 13,
   "metadata": {},
   "outputs": [
    {
     "data": {
      "text/plain": [
       "{1}"
      ]
     },
     "execution_count": 13,
     "metadata": {},
     "output_type": "execute_result"
    }
   ],
   "source": [
    "lst = [x for l in stup for x in l]\n",
    "dct = {key:lst.count(key) for key in lst}\n",
    "{val for val in dct.values()}"
   ]
  },
  {
   "cell_type": "code",
   "execution_count": null,
   "metadata": {},
   "outputs": [],
   "source": []
  }
 ],
 "metadata": {
  "kernelspec": {
   "display_name": "Python 3",
   "language": "python",
   "name": "python3"
  },
  "language_info": {
   "codemirror_mode": {
    "name": "ipython",
    "version": 3
   },
   "file_extension": ".py",
   "mimetype": "text/x-python",
   "name": "python",
   "nbconvert_exporter": "python",
   "pygments_lexer": "ipython3",
   "version": "3.7.6"
  }
 },
 "nbformat": 4,
 "nbformat_minor": 4
}
