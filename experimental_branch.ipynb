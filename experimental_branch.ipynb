{
 "cells": [
  {
   "cell_type": "code",
   "execution_count": 1,
   "metadata": {},
   "outputs": [],
   "source": [
    "import networkx as nx\n",
    "import pandas as pd\n",
    "import matplotlib.pyplot as plt\n",
    "from standup_graphs import *"
   ]
  },
  {
   "cell_type": "code",
   "execution_count": 2,
   "metadata": {},
   "outputs": [],
   "source": [
    "G = nx.read_gpickle('pickled_graph')"
   ]
  },
  {
   "cell_type": "markdown",
   "metadata": {},
   "source": [
    "# Experimental versions below!"
   ]
  },
  {
   "cell_type": "raw",
   "metadata": {},
   "source": [
    "This works when the lms are the initial start nodes\n",
    "Needs more work for random start nodes"
   ]
  },
  {
   "cell_type": "raw",
   "metadata": {},
   "source": [
    "Get grouper working with lms as 1st or second element - Done\n",
    "This should get rid of floating lms and ensures a lm in every group\n",
    "if lm added 2nd form neb weight from the overlap of neighbours for start,lm\n",
    "Still need to work on floating mentors with Tess as lm\n",
    "For random starts something odd is happening with the start list"
   ]
  },
  {
   "cell_type": "code",
   "execution_count": 3,
   "metadata": {},
   "outputs": [
    {
     "data": {
      "text/plain": [
       "['Jack Poulton', 'George Stanley', 'Mayan Patel', 'Adriano Cosi', 'Sean Aller']"
      ]
     },
     "execution_count": 3,
     "metadata": {},
     "output_type": "execute_result"
    }
   ],
   "source": [
    "sample(set(G.nodes)- set(line_managers(G)), 5)"
   ]
  },
  {
   "cell_type": "code",
   "execution_count": 4,
   "metadata": {},
   "outputs": [
    {
     "data": {
      "text/plain": [
       "{'Dagmar Ellefsen': 1,\n",
       " 'Victor Autonell': 1,\n",
       " 'Tom Smallwood': 1,\n",
       " 'Henry Glynn': 1,\n",
       " 'Ioanna Kotoula': 1,\n",
       " 'Rosalind Haskins': 1,\n",
       " 'Rosie Eccleston': 3,\n",
       " 'Thomas Tsoulias': 1,\n",
       " 'Ioana Preoteasa': 1,\n",
       " 'Joe Read': 1,\n",
       " 'Ella Franks': 3,\n",
       " 'Haydn Chapman': 3,\n",
       " 'Wojciech Orzechowski': 1,\n",
       " 'Adriano Cosi': 3,\n",
       " 'Anna Peng': 1,\n",
       " 'Mark Wentink': 1,\n",
       " 'Jack Poulton': 1,\n",
       " 'Jake Bailey': 1,\n",
       " 'Alex Dunne': 1,\n",
       " 'George Stanley': 1,\n",
       " 'Titus Bridgwood': 1,\n",
       " 'Daniel Penchev': 1,\n",
       " 'Mayan Patel': 1,\n",
       " 'Sean Aller': 1}"
      ]
     },
     "execution_count": 4,
     "metadata": {},
     "output_type": "execute_result"
    }
   ],
   "source": [
    "strts = sample(set(G.nodes)- set(line_managers(G)), 5)\n",
    "stup = standups(G, lms = strts, nm =5)\n",
    "lst = [x for l in stup for x in l]\n",
    "{key:lst.count(key) for key in lst}"
   ]
  },
  {
   "cell_type": "code",
   "execution_count": 29,
   "metadata": {},
   "outputs": [
    {
     "data": {
      "text/plain": [
       "['Thomas Tsoulias',\n",
       " 'Alex Dunne',\n",
       " 'Tom Smallwood',\n",
       " 'Sean Aller',\n",
       " 'Ioanna Kotoula',\n",
       " 'Ioana Preoteasa',\n",
       " 'Rosie Eccleston',\n",
       " 'Henry Glynn',\n",
       " 'Joe Read',\n",
       " 'Anna Peng',\n",
       " 'Titus Bridgwood',\n",
       " 'Mark Wentink',\n",
       " 'Adriano Cosi',\n",
       " 'Daniel Penchev',\n",
       " 'Mayan Patel',\n",
       " 'Dagmar Ellefsen',\n",
       " 'Alex Dunne',\n",
       " 'Jake Bailey',\n",
       " 'Wojciech Orzechowski',\n",
       " 'Rosalind Haskins',\n",
       " 'Ella Franks',\n",
       " 'Alex Dunne',\n",
       " 'George Stanley']"
      ]
     },
     "execution_count": 29,
     "metadata": {},
     "output_type": "execute_result"
    }
   ],
   "source": [
    "# Very weird?!\n",
    "# still broken even with lms taken out of initial starting nodes\n",
    "\n",
    "strts"
   ]
  },
  {
   "cell_type": "code",
   "execution_count": 30,
   "metadata": {},
   "outputs": [],
   "source": [
    "# grouper_test(G, 'Joe Read')"
   ]
  },
  {
   "cell_type": "code",
   "execution_count": 31,
   "metadata": {},
   "outputs": [],
   "source": [
    "# def grouper_test(G, start, assigned_lst=[], num = 5):\n",
    "#     \"\"\"Given a Graph G, a start node lm (line manager), \n",
    "#     a list of people already assigned, and the desired number \n",
    "#     of people per group return a list of the closest num-1 people to lm. \n",
    "#     Sample is used to prevent stable patterns forming.\"\"\"\n",
    "    \n",
    "#     lm_lst = line_managers(G)\n",
    "    \n",
    "# # Is start a line manager?\n",
    "#     if start in lm_lst:\n",
    "#         neb_lst = [start]\n",
    "        \n",
    "# # If start is not a lm then they have a mentor line manager or are manager by Tess (more connections)\n",
    "#     else:\n",
    "#         if G.degree()[start] == G.number_of_nodes() - 2:\n",
    "#             lm_lst.remove([x for x in list(set(G.nodes) - set(G.neighbors(start))) if x != start][0])\n",
    "#             added_lm = sample(lm_lst,1)[0]\n",
    "#             neb_lst = [start, added_lm]\n",
    "        \n",
    "#         else:\n",
    "#             added_lm = sample(lm_lst,1)[0]\n",
    "#             neb_lst = [start, added_lm]\n",
    "            \n",
    "    \n",
    "#     neb_weight = []\n",
    "    \n",
    "# # If neb_list only has start then we pick new members from starts neighbours for the weight list\n",
    "#     if len(neb_lst) == 1:\n",
    "#         for i in list(nx.neighbors(G, start)):\n",
    "#             neb_weight.append((i, G[start][i]['weight']))\n",
    "\n",
    "# # If neb_lst has 2 members then we pick new ones from the intersection of start and lms neighbours for the weight list\n",
    "#     else:\n",
    "#         for i in [value for value in list(nx.neighbors(G, start)) if value in list(nx.neighbors(G, added_lm))]:\n",
    "#             neb_weight.append((i, G[start][i]['weight']))\n",
    "    \n",
    "# # Shuffle the weight list then sort by weight, this breaks up stable formations\n",
    "#     neb_weight = sample(neb_weight, len(neb_weight))\n",
    "#     neb_weight.sort(key = lambda x: x[1])\n",
    "\n",
    "# # While then list of neighbours is less than the desired size add an element in from weight list \n",
    "# # as long as it's not been previously assigned (by earlier grouper)\n",
    "#     for i in neb_weight:\n",
    "#         if(len(neb_lst) < num):\n",
    "#             if i[0] not in assigned_lst:\n",
    "#                 neb_lst.append(i[0])\n",
    "#         else:\n",
    "#             break\n",
    "#     return neb_lst"
   ]
  },
  {
   "cell_type": "code",
   "execution_count": 32,
   "metadata": {},
   "outputs": [],
   "source": [
    "\n",
    "# for i in range(10000):\n",
    "#     strts = sample(G.nodes, 5)\n",
    "#     stup = standups(G, lms = strts, nm =5)\n",
    "#     lst = [x for l in stup for x in l]\n",
    "#     if len(lst) != len(set(lst)):\n",
    "#         print('broke')"
   ]
  },
  {
   "cell_type": "code",
   "execution_count": 33,
   "metadata": {},
   "outputs": [],
   "source": [
    "# def standups_test(G, lms=[], nm =5):\n",
    "#     \"\"\"Given G, a list of starting nodes (when blank defaults to line managers), and a desired group size will return a list of groups partioning the entire graph.\"\"\"\n",
    "    \n",
    "#     if not lms:\n",
    "#         lm_lst = line_managers(G)\n",
    "#     else:\n",
    "#         lm_lst = lms\n",
    "    \n",
    "#     groups_lst =[]\n",
    "#     as_lst = lm_lst\n",
    "    \n",
    "#     if len(G.nodes) > len(lm_lst)*nm:\n",
    "        \n",
    "#         print('Error: groups not large enough to cover entire team')\n",
    "#         return\n",
    "    \n",
    "#     lm_lst = sample(lm_lst, len(lm_lst))\n",
    "    \n",
    "#     for lm in lm_lst:\n",
    "#         semi_as_lst = as_lst\n",
    "#         semi_as_lst.remove(lm)\n",
    "#         grp = grouper(G, lm, semi_as_lst, num = nm)\n",
    "#         groups_lst.append(grp)\n",
    "#         as_lst.extend(grp)\n",
    "\n",
    "#     for mentor in list(G.nodes):\n",
    "#         if mentor not in as_lst:\n",
    "\n",
    "#             lm = [x for x in list(set(G.nodes) - set(G.neighbors(mentor))) if x != mentor][0]\n",
    "#             lm_neigh = [(i, G[lm][i]['weight']) for i in list(nx.neighbors(G, lm))]\n",
    "#             lm_neigh.sort(key = lambda x: x[1]) \n",
    "\n",
    "#             for group in groups_lst:\n",
    "#                 if lm_neigh[0][0] in group:\n",
    "#                     group.append(mentor)\n",
    "#                     group.remove(lm_neigh[0][0])\n",
    "#                 if lm in group:\n",
    "#                     group.append(lm_neigh[0][0])\n",
    "            \n",
    "#     return groups_lst"
   ]
  },
  {
   "cell_type": "raw",
   "metadata": {},
   "source": [
    "Swapper Algo\n",
    "if a mentor is not able to be put into a group then the group contains their lm (must?)\n",
    "find their lm \n",
    "find the lm's neighbours (i.e. non-direct reports/other lms) sorted by weight\n",
    "find nearest neighbour who is not already in lms group (NOT DONE YET)\n",
    "go through each group: \n",
    "    if neighbour in group then add mentor and remove neighbour\n",
    "    if lm in group then add neighbour"
   ]
  },
  {
   "cell_type": "raw",
   "metadata": {},
   "source": [
    "Core algorithm for grouper\n",
    "\n",
    "choose starting node\n",
    "work out weights of all neighbours\n",
    "shuffle names preserving weighted order\n",
    "sort neb_weight\n",
    "while group less than desired size add element from neb_weight to group\n",
    "if element not already assigned\n",
    "and\n",
    "all members of group contain element in their neighbours"
   ]
  },
  {
   "cell_type": "code",
   "execution_count": 34,
   "metadata": {},
   "outputs": [],
   "source": [
    "# 'g' is missing, we'll add 'a' (h's nn) into the group containing 'h' (g's lm) and put 'g' in the first one\n",
    "# Need to build if statement for seeing if 'a' is already in 'h's group\n",
    "# Should be iterating through a list of nns for h\n",
    "\n",
    "# test_lst = [list('abc'), list('def'), list('hi')]\n",
    "# for group in test_lst:\n",
    "#                 if 'a' in group:\n",
    "#                     group.append('g')\n",
    "#                     group.remove('a')\n",
    "#                 if 'h' in group:\n",
    "#                     group.append('a')\n",
    "                \n",
    "# test_lst"
   ]
  },
  {
   "cell_type": "code",
   "execution_count": 35,
   "metadata": {},
   "outputs": [],
   "source": [
    "\n",
    "# Too do\n",
    "# Is connectivity useful? Could be used as a tool to mix line managers with newer people\n",
    "# Can we find a way of shuffling the groups for everyone i.e. random start points?\n",
    "\n",
    "# Issues \n",
    "# FIXED\n",
    "# using random lm_lst can put two line managers in the same group and can put the same person in multiple groups\n",
    "# Very broken for random starts and normal ones!\n",
    "# line manager starts often (always?) result in duplicated people - core issue\n",
    "# Have tested grouper (+ exp branch) running off line_managers \n",
    "# by comparing len(set) =/= len() to look for people being in the same group twice: negative\n",
    "# Issue must be in standups...\n",
    "\n",
    "# NOT FIXED\n",
    "# Standups swapping tool is breaking when mentors with Tess as lm need to be assigned\n",
    "# Also breaking for unassigned line managers (same group I guess) can be fixed by lms being second\n",
    "# Swapping algo has no issues if we start with line managers (leave aside for now)\n"
   ]
  },
  {
   "cell_type": "code",
   "execution_count": 36,
   "metadata": {},
   "outputs": [],
   "source": [
    "# def grouper_test(G, start, assigned_lst=[], num =5):\n",
    "#     \"\"\"Given a Graph G, a start node lm (line manager), a list of people already assigned, \n",
    "#     and the desired number of people per group return a list of the closest connected num-1 people to lm. \n",
    "#     Sample is used to prevent stable patterns forming. Should also not put two line managers together or put line managers with their directs\"\"\"\n",
    "    \n",
    "#     lm_lst = line_managers(G)\n",
    "\n",
    "#     if start in lm_lst:\n",
    "#         neb_lst = [start]\n",
    "\n",
    "#     else:\n",
    "#         if G.degree()[start] == G.number_of_nodes() - 2:\n",
    "#             lm_lst.remove([x for x in list(set(G.nodes) - set(G.neighbors(start))) if x != start][0])\n",
    "#             added_lm = sample(lm_lst,1)[0]\n",
    "#             neb_lst = [start, added_lm]\n",
    "#             assigned_lst.append(added_lm)\n",
    "#         else:\n",
    "#             added_lm = sample(lm_lst,1)[0]\n",
    "#             neb_lst = [start, added_lm]\n",
    "#             assigned_lst.append(added_lm)\n",
    "    \n",
    " \n",
    "    \n",
    "#     neb_weight = []\n",
    "\n",
    "#     for i in list(nx.neighbors(G, start)):\n",
    "#         neb_weight.append((i, G[start][i]['weight']))\n",
    "    \n",
    "#     neb_weight = sample(neb_weight, len(neb_weight))\n",
    "#     neb_weight.sort(key = lambda x: x[1])\n",
    "\n",
    "#     for i in neb_weight:\n",
    "#         if(len(neb_lst) < num):\n",
    "#             if i[0] not in assigned_lst:\n",
    "#                 if all(i[0] in nebs for nebs in [list(nx.neighbors(G, node)) for node in neb_lst]):\n",
    "#                     neb_lst.append(i[0])\n",
    "#                 else:\n",
    "#                     continue\n",
    "                                \n",
    "#         else:\n",
    "#             break\n",
    "#     return neb_lst"
   ]
  },
  {
   "cell_type": "code",
   "execution_count": 37,
   "metadata": {},
   "outputs": [],
   "source": [
    "# def standups_test(G, lms=[], nm =5):\n",
    "#     \"\"\"Given G, a list of starting nodes (when blank defaults to line managers), and a desired group size will return a list of groups partioning the entire graph.\"\"\"\n",
    "    \n",
    "#     if not lms:\n",
    "#         lm_lst = line_managers(G)\n",
    "#     else:\n",
    "#         lm_lst = lms\n",
    "    \n",
    "#     groups_lst =[]\n",
    "#     as_lst = lm_lst\n",
    "    \n",
    "#     if len(G.nodes) > len(lm_lst)*nm:\n",
    "        \n",
    "#         print('Error: groups not large enough to cover entire team')\n",
    "#         return\n",
    "    \n",
    "#     lm_lst = sample(lm_lst, len(lm_lst))\n",
    "    \n",
    "#         for lm in lm_lst:\n",
    "#             semi_as_lst = as_lst\n",
    "#             semi_as_lst.remove(lm)\n",
    "#             grp = grouper(G, lm, semi_as_lst, num = nm)\n",
    "#             groups_lst.append(grp)\n",
    "#             as_lst.extend(grp)\n",
    "\n",
    "#     for mentor in list(G.nodes):\n",
    "#         if mentor not in as_lst:\n",
    "\n",
    "#             lm = [x for x in list(set(G.nodes) - set(G.neighbors(mentor))) if x != mentor][0]\n",
    "#             lm_neigh = [(i, G[lm][i]['weight']) for i in list(nx.neighbors(G, lm))]\n",
    "#             lm_neigh.sort(key = lambda x: x[1]) \n",
    "            \n",
    "#             for group in groups_lst:\n",
    "#                 if lm_neigh[0][0] in group:\n",
    "#                     group.append(mentor)\n",
    "#                     group.remove(lm_neigh[0][0])\n",
    "#                 if lm in group:\n",
    "#                     group.append(lm_neigh[0][0])\n",
    "            \n",
    "#     return groups_lst"
   ]
  },
  {
   "cell_type": "code",
   "execution_count": null,
   "metadata": {},
   "outputs": [],
   "source": []
  },
  {
   "cell_type": "code",
   "execution_count": 38,
   "metadata": {},
   "outputs": [],
   "source": [
    "# assigned_lst = ['a', 'b', 'c']\n",
    "# neb_weight = [(i,1) for i in list('abcd') ]\n",
    "# neb_lst = []\n",
    "\n",
    "# for i in neb_weight:\n",
    "#         if(len(neb_lst) < 3):\n",
    "#             if i[0] not in assigned_lst:\n",
    "#                 neb_lst.append(i[0])\n",
    "#         else:\n",
    "#             break\n",
    "# neb_lst"
   ]
  }
 ],
 "metadata": {
  "kernelspec": {
   "display_name": "Python 3",
   "language": "python",
   "name": "python3"
  },
  "language_info": {
   "codemirror_mode": {
    "name": "ipython",
    "version": 3
   },
   "file_extension": ".py",
   "mimetype": "text/x-python",
   "name": "python",
   "nbconvert_exporter": "python",
   "pygments_lexer": "ipython3",
   "version": "3.7.6"
  }
 },
 "nbformat": 4,
 "nbformat_minor": 4
}
